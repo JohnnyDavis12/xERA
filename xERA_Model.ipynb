{
 "cells": [
  {
   "cell_type": "code",
   "execution_count": null,
   "metadata": {},
   "outputs": [],
   "source": [
    "# Import necessary libraries\n",
    "import pandas as pd\n",
    "from sklearn.model_selection import train_test_split\n",
    "from sklearn.preprocessing import StandardScaler\n",
    "from sklearn.linear_model import Ridge\n",
    "from sklearn.ensemble import RandomForestRegressor\n",
    "from sklearn.metrics import r2_score"
   ]
  },
  {
   "cell_type": "code",
   "execution_count": null,
   "metadata": {},
   "outputs": [],
   "source": [
    "# Load the data\n",
    "df = pd.read_csv(\"/Users/johndavis/Desktop/df_total_full_arsenal_ERA4.csv\")"
   ]
  },
  {
   "cell_type": "code",
   "execution_count": null,
   "metadata": {},
   "outputs": [],
   "source": [
    "# Drop rows with NaN values\n",
    "df_cleaned = df.dropna()\n",
    "\n",
    "# Define features and target\n",
    "X = df_cleaned.drop(columns=['ERA', 'Unnamed: 0', 'Pitcher'])\n",
    "y = df_cleaned['ERA']"
   ]
  },
  {
   "cell_type": "code",
   "execution_count": null,
   "metadata": {},
   "outputs": [],
   "source": [
    "# Split data into training and validation sets\n",
    "X_train, X_val, y_train, y_val = train_test_split(X, y, test_size=0.2, random_state=42)"
   ]
  },
  {
   "cell_type": "code",
   "execution_count": null,
   "metadata": {},
   "outputs": [],
   "source": [
    "# Scale the features\n",
    "scaler = StandardScaler()\n",
    "X_train_scaled = scaler.fit_transform(X_train)\n",
    "X_val_scaled = scaler.transform(X_val)\n",
    "\n",
    "# Train Ridge Regression model\n",
    "ridge_model = Ridge(alpha=1.0)\n",
    "ridge_model.fit(X_train_scaled, y_train)\n",
    "\n",
    "# Train Random Forest model\n",
    "rf_model = RandomForestRegressor(n_estimators=100, random_state=42)\n",
    "rf_model.fit(X_train_scaled, y_train)\n",
    "\n",
    "# Predict using Ridge Regression and Random Forest\n",
    "y_val_pred_ridge = ridge_model.predict(X_val_scaled)\n",
    "y_val_pred_rf = rf_model.predict(X_val_scaled)"
   ]
  },
  {
   "cell_type": "code",
   "execution_count": null,
   "metadata": {},
   "outputs": [],
   "source": [
    "# Ensemble predictions using weighted average\n",
    "w1, w2 = 0.5, 0.5\n",
    "y_val_pred_ensemble = w1 * y_val_pred_ridge + w2 * y_val_pred_rf\n",
    "\n",
    "# Evaluate the ensemble's performance\n",
    "r2_ensemble = r2_score(y_val, y_val_pred_ensemble)\n",
    "print(f\"R^2 score of the ensemble model: {r2_ensemble}\")"
   ]
  },
  {
   "cell_type": "code",
   "execution_count": null,
   "metadata": {},
   "outputs": [],
   "source": [
    "#predict era for 2023\n",
    "df_2023 = pd.read_csv(\"/Users/johndavis/Desktop/df_total_full_arsenal_ERA4.csv\")\n",
    "\n",
    "# Drop rows with NaN values to create df_2023_cleaned\n",
    "df_2023_cleaned = df_2023.dropna()\n",
    "\n",
    "# Reset the index for df_2023_cleaned\n",
    "df_2023_cleaned = df_2023_cleaned.reset_index(drop=True)\n",
    "\n",
    "# Define features for 2023 as X_2023\n",
    "X_2023 = df_2023_cleaned.drop(columns=['ERA', 'Unnamed: 0', 'Pitcher'])\n",
    "\n",
    "# Scale X_2023 using the same scaler used for training data\n",
    "X_2023_scaled = scaler.transform(X_2023)\n",
    "\n",
    "X_2023_scaled.shape"
   ]
  },
  {
   "cell_type": "code",
   "execution_count": null,
   "metadata": {},
   "outputs": [],
   "source": [
    "# Make predictions for xERA in 2023 using Ridge and Random Forest models\n",
    "df_2023_cleaned['xERA_RIDGE'] = ridge_model.predict(X_2023_scaled)\n",
    "df_2023_cleaned['xERA_RF'] = rf_model.predict(X_2023_scaled)\n",
    "\n",
    "# Calculate the ensemble prediction\n",
    "df_2023_cleaned['xERA_ENSEMBLE'] = w1 * df_2023_cleaned['xERA_RIDGE'] + w2 * df_2023_cleaned['xERA_RF']"
   ]
  },
  {
   "cell_type": "code",
   "execution_count": null,
   "metadata": {},
   "outputs": [],
   "source": [
    "#sort by xERA_ENSEMBLE lowest to highest\n",
    "df_2023_cleaned.sort_values(by=['xERA_ENSEMBLE'], inplace=True)"
   ]
  },
  {
   "cell_type": "code",
   "execution_count": 79,
   "metadata": {},
   "outputs": [],
   "source": [
    "#df_total_full_arsenal_ERA4 min 1000\n",
    "df_2023_cleaned_502 = df_2023_cleaned[df_2023_cleaned['count_x'] >= 500]"
   ]
  },
  {
   "cell_type": "code",
   "execution_count": 80,
   "metadata": {},
   "outputs": [],
   "source": [
    "#columns to keep Pitcher\tcount_x\tStuff+\tERA xERA_ENSEMBLE\n",
    "df_2023_cleaned_502 = df_2023_cleaned_501[['Pitcher', 'count_x', 'Stuff+', 'ERA', 'xERA_ENSEMBLE', 'xba', 'whiff_percent']]"
   ]
  },
  {
   "cell_type": "code",
   "execution_count": null,
   "metadata": {},
   "outputs": [],
   "source": [
    "#change xERA_ENSEMBLE to xERA\n",
    "df_2023_cleaned_501.rename(columns={'xERA_ENSEMBLE': 'xERA'}, inplace=True)"
   ]
  },
  {
   "cell_type": "code",
   "execution_count": null,
   "metadata": {},
   "outputs": [],
   "source": [
    "top_25_xERA = df_2023_cleaned_501.head(25)"
   ]
  },
  {
   "cell_type": "code",
   "execution_count": 81,
   "metadata": {},
   "outputs": [],
   "source": [
    "#df_total_full_arsenal_ERA4 min 1000\n",
    "df_2023_cleaned_1000 = df_2023_cleaned[df_2023_cleaned['count_x'] >= 1000]"
   ]
  },
  {
   "cell_type": "code",
   "execution_count": null,
   "metadata": {},
   "outputs": [],
   "source": [
    "#to csv top_10_xERA\n",
    "top_25_xERA.to_csv('/Users/johndavis/Desktop/top_25_xERA.csv')\n",
    "df_2023_cleaned_501.to_csv('/Users/johndavis/Desktop/df_2023_cleaned_501.csv')\n"
   ]
  }
 ],
 "metadata": {
  "kernelspec": {
   "display_name": "base",
   "language": "python",
   "name": "python3"
  },
  "language_info": {
   "codemirror_mode": {
    "name": "ipython",
    "version": 3
   },
   "file_extension": ".py",
   "mimetype": "text/x-python",
   "name": "python",
   "nbconvert_exporter": "python",
   "pygments_lexer": "ipython3",
   "version": "3.9.13"
  },
  "orig_nbformat": 4
 },
 "nbformat": 4,
 "nbformat_minor": 2
}
